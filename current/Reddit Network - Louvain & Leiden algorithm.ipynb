{
 "cells": [
  {
   "cell_type": "code",
   "execution_count": null,
   "id": "d08b1a14",
   "metadata": {
    "pycharm": {
     "name": "#%%\n"
    }
   },
   "outputs": [],
   "source": [
    "import networkx as nx\n",
    "from networkx.algorithms import community \n",
    "import matplotlib.pyplot as plt\n",
    "import matplotlib.cm as cm\n",
    "import community as community_louvain\n",
    "import networkx.algorithms.community as nx_comm\n",
    "import matplotlib.cm as cm\n",
    "from networkx.algorithms import tree\n",
    "from operator import itemgetter\n",
    "from pyvis import network as net\n",
    "\n",
    "import pandas as pd \n",
    "import matplotlib.pyplot as plt\n",
    "import numpy as np\n",
    "from numpy import arange\n",
    "import random\n",
    "import seaborn as sns \n",
    "from cdlib import algorithms, viz\n",
    "from cdlib import evaluation\n",
    "from cdlib import NodeClustering\n",
    "from collections import defaultdict\n",
    "from pprint import pprint\n",
    "from networkx.algorithms.flow import shortest_augmenting_path\n",
    "from scipy.stats import expon\n",
    "import csv\n",
    "\n",
    "import igraph as ig\n",
    "import louvain\n",
    "import cairocffi as cairo\n",
    "import chart_studio.plotly as py\n",
    "from plotly.graph_objs import *\n",
    "from contextlib import redirect_stdout\n",
    "from collections import Counter\n",
    "import gc\n",
    "\n",
    "\n",
    "%matplotlib inline \n",
    "\n",
    "import warnings\n",
    "warnings.filterwarnings(action='ignore')"
   ]
  },
  {
   "cell_type": "markdown",
   "id": "fa53c69e",
   "metadata": {
    "pycharm": {
     "name": "#%% md\n"
    }
   },
   "source": [
    "### CSV-Files "
   ]
  },
  {
   "cell_type": "code",
   "execution_count": null,
   "id": "8045cf3c",
   "metadata": {
    "pycharm": {
     "name": "#%%\n"
    }
   },
   "outputs": [],
   "source": [
    "nodes2019 = pd.read_csv(r'/home/noram/new_user_data_top10000_csv/sr-user_2019_filteredby_UsersInSubreddits_2019~top-10000.vertex.csv')\n",
    "nodes2018 = pd.read_csv(r'/home/noram/new_user_data_top10000_csv/sr-user_2018_filteredby_UsersInSubreddits_2018~top-10000.vertex.csv')\n",
    "nodes2017 = pd.read_csv(r'/home/noram/new_user_data_top10000_csv/sr-user_2017_filteredby_UsersInSubreddits_2017~top-10000.vertex.csv')\n",
    "nodes2016 = pd.read_csv(r'/home/noram/new_user_data_top10000_csv/sr-user_2016_filteredby_UsersInSubreddits_2016~top-10000.vertex.csv')\n",
    "nodes2015 = pd.read_csv(r'/home/noram/new_user_data_top10000_csv/sr-user_2015_filteredby_UsersInSubreddits_2015~top-10000.vertex.csv')\n",
    "nodes2014 = pd.read_csv(r'/home/noram/new_user_data_top10000_csv/sr-user_2014_filteredby_UsersInSubreddits_2014~top-10000.vertex.csv')\n",
    "nodes2013 = pd.read_csv(r'/home/noram/new_user_data_top10000_csv/sr-user_2013_filteredby_UsersInSubreddits_2013~top-10000.vertex.csv')\n",
    "nodes2012 = pd.read_csv(r'/home/noram/new_user_data_top10000_csv/sr-user_2012_filteredby_UsersInSubreddits_2012~top-10000.vertex.csv')\n",
    "nodes2011 = pd.read_csv(r'/home/noram/new_user_data_top10000_csv/sr-user_2011_filteredby_UsersInSubreddits_2011~top-10000.vertex.csv')\n",
    "nodes2010 = pd.read_csv(r'/home/noram/new_user_data_top10000_csv/sr-user_2010_filteredby_UsersInSubreddits_2010~top-10000.vertex.csv')\n",
    "nodes2009 = pd.read_csv(r'/home/noram/new_user_data_top10000_csv/sr-user_2009_filteredby_UsersInSubreddits_2009~top-10000.vertex.csv')\n",
    "nodes2008 = pd.read_csv(r'/home/noram/new_user_data_top10000_csv/sr-user_2008_filteredby_UsersInSubreddits_2008~top-10000.vertex.csv')\n",
    "nodes2007 = pd.read_csv(r'/home/noram/new_user_data_top10000_csv/sr-user_2007_filteredby_UsersInSubreddits_2007~top-10000.vertex.csv')\n",
    "nodes2006 = pd.read_csv(r'/home/noram/new_user_data_top10000_csv/sr-user_2006_filteredby_UsersInSubreddits_2006~top-10000.vertex.csv')\n",
    "nodes2005 = pd.read_csv(r'/home/noram/new_user_data_top10000_csv/sr-user_2005_filteredby_UsersInSubreddits_2005~top-10000.vertex.csv')\n"
   ]
  },
  {
   "cell_type": "code",
   "execution_count": null,
   "id": "0ee6d560",
   "metadata": {
    "pycharm": {
     "name": "#%%\n"
    }
   },
   "outputs": [],
   "source": []
  },
  {
   "cell_type": "code",
   "execution_count": null,
   "id": "e30750ae",
   "metadata": {
    "pycharm": {
     "name": "#%%\n"
    }
   },
   "outputs": [],
   "source": [
    "edges2019 = pd.read_csv(r'/home/noram/new_user_data_top10000_csv/sr-user_2019_filteredby_UsersInSubreddits_2019~top-10000.edge.csv')\n",
    "edges2018 = pd.read_csv(r'/home/noram/new_user_data_top10000_csv/sr-user_2018_filteredby_UsersInSubreddits_2018~top-10000.edge.csv')\n",
    "edges2017 = pd.read_csv(r'/home/noram/new_user_data_top10000_csv/sr-user_2017_filteredby_UsersInSubreddits_2017~top-10000.edge.csv')\n",
    "edges2016 = pd.read_csv(r'/home/noram/new_user_data_top10000_csv/sr-user_2016_filteredby_UsersInSubreddits_2016~top-10000.edge.csv')\n",
    "edges2015 = pd.read_csv(r'/home/noram/new_user_data_top10000_csv/sr-user_2015_filteredby_UsersInSubreddits_2015~top-10000.edge.csv')\n",
    "edges2014 = pd.read_csv(r'/home/noram/new_user_data_top10000_csv/sr-user_2014_filteredby_UsersInSubreddits_2014~top-10000.edge.csv')\n",
    "edges2013 = pd.read_csv(r'/home/noram/new_user_data_top10000_csv/sr-user_2013_filteredby_UsersInSubreddits_2013~top-10000.edge.csv')\n",
    "edges2012 = pd.read_csv(r'/home/noram/new_user_data_top10000_csv/sr-user_2012_filteredby_UsersInSubreddits_2012~top-10000.edge.csv')\n",
    "edges2011 = pd.read_csv(r'/home/noram/new_user_data_top10000_csv/sr-user_2011_filteredby_UsersInSubreddits_2011~top-10000.edge.csv')\n",
    "edges2010 = pd.read_csv(r'/home/noram/new_user_data_top10000_csv/sr-user_2010_filteredby_UsersInSubreddits_2010~top-10000.edge.csv')\n",
    "edges2009 = pd.read_csv(r'/home/noram/new_user_data_top10000_csv/sr-user_2009_filteredby_UsersInSubreddits_2009~top-10000.edge.csv')\n",
    "edges2008 = pd.read_csv(r'/home/noram/new_user_data_top10000_csv/sr-user_2008_filteredby_UsersInSubreddits_2008~top-10000.edge.csv')\n",
    "edges2007 = pd.read_csv(r'/home/noram/new_user_data_top10000_csv/sr-user_2007_filteredby_UsersInSubreddits_2007~top-10000.edge.csv')\n",
    "edges2006 = pd.read_csv(r'/home/noram/new_user_data_top10000_csv/sr-user_2006_filteredby_UsersInSubreddits_2006~top-10000.edge.csv')\n",
    "edges2005 = pd.read_csv(r'/home/noram/new_user_data_top10000_csv/sr-user_2005_filteredby_UsersInSubreddits_2005~top-10000.edge.csv')\n"
   ]
  },
  {
   "cell_type": "markdown",
   "id": "e6f24e56",
   "metadata": {
    "pycharm": {
     "name": "#%% md\n"
    }
   },
   "source": [
    "## Methods"
   ]
  },
  {
   "cell_type": "code",
   "execution_count": null,
   "id": "6d816297",
   "metadata": {
    "pycharm": {
     "name": "#%%\n"
    }
   },
   "outputs": [],
   "source": [
    "class solution:\n",
    "    \n",
    "    \n",
    "    def create_graphs(nodes, edges):\n",
    "        G = nx.Graph()\n",
    "        G = nx.from_pandas_edgelist(edges, 'i', 'j', edge_attr=True)\n",
    "        N = nodes.set_index('i').to_dict('index').items()\n",
    "        G.add_nodes_from(N)\n",
    "        G.remove_nodes_from(list(nx.isolates(G)))\n",
    "        G.number_of_edges()\n",
    "        G.number_of_nodes()\n",
    "        print(\"Success\")\n",
    "        return G\n",
    "    \n",
    "    def edge_weight(G):\n",
    "        G_edge_weights = nx.get_edge_attributes(G,'W_ij')\n",
    "        #min and max value \n",
    "        new_maximum_val = max(G_edge_weights.keys(), key=(lambda new_k: G_edge_weights[new_k]))\n",
    "        print('Maximum Value: ',G_edge_weights[new_maximum_val])\n",
    "        new_minimum_val= min(G_edge_weights.keys(), key=(lambda new_k: G_edge_weights[new_k]))\n",
    "        print('Minimum Value: ',G_edge_weights[new_minimum_val])\n",
    "        #return G_edge_weights\n",
    "    \n",
    "    def convert_array(list):\n",
    "        array = np.array(list)\n",
    "        return array\n",
    "        \n",
    "    def filtering(G, weight_value):\n",
    "        B = G.copy()\n",
    "        B_edge_weights = nx.get_edge_attributes(B,'W_ij')\n",
    "        B.remove_edges_from([(n1, n2) for n1, n2, w in B.edges(data=\"W_ij\") if w <= weight_value])\n",
    "        #sorted(B.edges(data=True), key=lambda t: t[2].get('W_ij', 1))\n",
    "        return B\n",
    "        print(nx.info(B))\n",
    "      \n",
    "    \n",
    "    def filtering_remove_nodes(G, weight_value):\n",
    "        B = G.copy()\n",
    "        B_edge_weights = nx.get_edge_attributes(B,'W_ij')\n",
    "        B.remove_edges_from([(n1, n2) for n1, n2, w in B.edges(data=\"W_ij\") if w <= weight_value])\n",
    "        B.remove_nodes_from(list(nx.isolates(B)))\n",
    "        print(nx.info(B))\n",
    "       \n",
    "    \n",
    "    def conn_component(G):\n",
    "        is_connected = nx.is_connected(G)\n",
    "        return is_connected\n",
    "    \n",
    "    def find_largest_component(G):\n",
    "        largest_component = max(nx.connected_components(G), key = len)\n",
    "        B = G.subgraph(largest_component)\n",
    "        return B\n",
    "    \n",
    "    def hist_degree(G):\n",
    "        hist = plt.hist([v for k,v in nx.degree(G)])\n",
    "        return hist\n",
    "    \n",
    "    #value = max value for G\n",
    "    def split_equal(value, parts):\n",
    "        value = float(value)\n",
    "        return [i*value/parts for i in range(1,parts+1)]\n",
    "    \n",
    "    def find_number_edges(G, new_Bx_list):\n",
    "        B = G.copy()\n",
    "        number_edges = []\n",
    "        for i in new_Bx_list:\n",
    "            B.remove_edges_from([(n1, n2) for n1, n2, w in B.edges(data=\"W_ij\") if w <= i])\n",
    "            #print(nx.info(B))\n",
    "            print(B.number_of_edges())\n",
    "            print(i) # To know the value\n",
    "            number_edges.append(B.number_of_edges())\n",
    "        return number_edges\n",
    "\n",
    "    \n",
    "    def max_number_of_edges(G):\n",
    "        A = G.copy(as_view = True)\n",
    "        mst = tree.minimum_spanning_edges(A, algorithm=\"prim\", data=\"W_ij\")\n",
    "        list_edges = list(mst)\n",
    "        return list_edges\n",
    "        \n",
    "    def return_lowest_weight(self):\n",
    "        list_of_weight = [x[2]['W_ij'] for x in self]\n",
    "        abc = sorted(list_of_weight)\n",
    "        #abc = abc[0]\n",
    "        return abc\n",
    "    \n",
    "    def max_number_edges(G):\n",
    "        B = G.copy()\n",
    "        listOfEdges = []\n",
    "        listEdges = list(B.edges(data='W_ij'))\n",
    "        for x, y, z in listEdges:\n",
    "            listOfEdges.append(z)\n",
    "            listOfEdges.sort()\n",
    "        result = solution.conn_component(B)\n",
    "        if result == True:\n",
    "            B.remove_edge(listOfEdges)\n",
    "        elif result == False:\n",
    "            print (\"No more edges to remove, last edge was: \")\n",
    "        print(nx.info(B))\n",
    "        print(nx.is_connected(B))\n",
    "        return B\n",
    "    \n",
    "    \n",
    "    def louvain_P(G):\n",
    "        B = G.copy()\n",
    "        partition = community_louvain.best_partition(B, weight ='W_ij')\n",
    "        pos = nx.spring_layout(B)\n",
    "        cmap = cm.get_cmap('viridis', max(partition.values()) + 1)\n",
    "        nx.draw_networkx_nodes(B, pos, partition.keys(), node_size=40,\n",
    "                       cmap=cmap, node_color=list(partition.values()))\n",
    "        nx.draw_networkx_edges(B, pos, alpha=0.5)\n",
    "        plt.show()\n",
    "        return partition\n",
    "        \n",
    "        \n",
    "    def louvain(G):\n",
    "        B = G.copy()\n",
    "        lv = nx_comm.louvain_communities(B, weight ='W_ij' )\n",
    "        return lv \n",
    "        \n",
    "    def com_leiden(G):\n",
    "        B = G.copy()\n",
    "        leiden_coms = algorithms.leiden(B, weights ='W_ij')\n",
    "        return leiden_coms\n",
    "        \n",
    "    def com_louvain(G):\n",
    "        B = G.copy()\n",
    "        louvain_coms = algorithms.louvain(B, weight ='W_ij')\n",
    "        return louvain_coms \n",
    "    \n",
    "    def dendo(G):\n",
    "        dendo = community_louvain.generate_dendrogram(G, weight='W_ij')\n",
    "        for level in range(len(dendo) - 1) :\n",
    "            print(\"partition at level\", level, \"is\", community_louvain.partition_at_level(dendo, level))\n",
    "            \n",
    "    def louvain_list(G):\n",
    "        centers = {}\n",
    "        communities = {}\n",
    "        G_main_com = G.copy()\n",
    "        min_nb = 1\n",
    "        for com in set(communitie.values()) :\n",
    "            list_nodes = [nodes for nodes in communitie.keys() if communitie[nodes] == com]\n",
    "        if len(list_nodes) < min_nb:\n",
    "            G_main_com.remove_nodes_from(list_nodes)\n",
    "        else:\n",
    "            # Get center\n",
    "            H = G_main_com.subgraph(list_nodes)\n",
    "            d_c = nx.degree_centrality(H)\n",
    "            center = max(d_c, key=d_c.get)\n",
    "            centers[center] = com\n",
    "            communities[com] = center\n",
    "            # Print community\n",
    "            print('Community of ', center , '(ID ', com, ') - ', len(list_nodes), ' Subreddits:')\n",
    "            print(list_nodes, '\\n')\n",
    "    \n",
    "\n",
    "   \n",
    "            "
   ]
  },
  {
   "cell_type": "markdown",
   "id": "de6aac58",
   "metadata": {
    "pycharm": {
     "name": "#%% md\n"
    }
   },
   "source": [
    "# Graphs  "
   ]
  },
  {
   "cell_type": "markdown",
   "id": "689b44f1",
   "metadata": {
    "pycharm": {
     "name": "#%% md\n"
    }
   },
   "source": [
    "### 2005 "
   ]
  },
  {
   "cell_type": "code",
   "execution_count": null,
   "id": "1cdd9534",
   "metadata": {
    "pycharm": {
     "name": "#%%\n"
    }
   },
   "outputs": [],
   "source": [
    "G05 = solution.create_graphs(nodes2005, edges2005)\n",
    "print('2005:' + nx.info(G05))\n"
   ]
  },
  {
   "cell_type": "markdown",
   "id": "fb7f97f8",
   "metadata": {
    "pycharm": {
     "name": "#%% md\n"
    }
   },
   "source": [
    "# 2006 "
   ]
  },
  {
   "cell_type": "code",
   "execution_count": null,
   "id": "bda8e7d0",
   "metadata": {
    "pycharm": {
     "name": "#%%\n"
    }
   },
   "outputs": [],
   "source": [
    "G06 = solution.create_graphs(nodes2006, edges2006)\n",
    "print('2006:' + nx.info(G06))\n",
    "print('The graph is connected:') \n",
    "print(solution.conn_component(G06))\n",
    "print('________________________')\n",
    "print('2006 Edge weight')\n",
    "solution.edge_weight(G06)\n",
    "print('________________________')\n"
   ]
  },
  {
   "cell_type": "markdown",
   "id": "46839e08",
   "metadata": {
    "pycharm": {
     "name": "#%% md\n"
    }
   },
   "source": [
    "## Leiden "
   ]
  },
  {
   "cell_type": "code",
   "execution_count": null,
   "id": "15e76436",
   "metadata": {
    "pycharm": {
     "name": "#%%\n"
    }
   },
   "outputs": [],
   "source": [
    "#filtering \n",
    "Filter_06 = solution.filtering(G06,0.28)\n",
    "print(nx.is_connected(Filter_06))\n",
    "\n",
    "leiden_coms06 = solution.com_leiden(Filter_06)\n",
    "viz.plot_network_clusters(Filter_06, leiden_coms06)\n",
    "\n",
    "print(leiden_coms06.communities)"
   ]
  },
  {
   "cell_type": "code",
   "execution_count": null,
   "id": "d73fed3d",
   "metadata": {
    "pycharm": {
     "name": "#%%\n"
    }
   },
   "outputs": [],
   "source": [
    "#Number of nodes for each community\n",
    "lei_size06 = leiden_coms06.size(summary = False)\n",
    "print(lei_size06)"
   ]
  },
  {
   "cell_type": "code",
   "execution_count": null,
   "id": "be4f0574",
   "metadata": {
    "pycharm": {
     "name": "#%%\n"
    }
   },
   "outputs": [],
   "source": [
    "#number of edges for each community\n",
    "\n",
    "lei_edges06 = leiden_coms06.edges_inside(summary = False)\n",
    "print(lei_edges06)"
   ]
  },
  {
   "cell_type": "code",
   "execution_count": null,
   "id": "d1ce6f8a",
   "metadata": {
    "pycharm": {
     "name": "#%%\n"
    }
   },
   "outputs": [],
   "source": [
    "# Clustering Coefficient \n",
    "leiden_coeff06 = evaluation.avg_transitivity(Filter_06,leiden_coms06, summary = False)\n",
    "print(leiden_coeff06)"
   ]
  },
  {
   "cell_type": "code",
   "execution_count": null,
   "id": "d8997ae3",
   "metadata": {
    "pycharm": {
     "name": "#%%\n"
    }
   },
   "outputs": [],
   "source": [
    "# Modularity\n",
    "leiden_mod06 = evaluation.newman_girvan_modularity(Filter_06,leiden_coms06)\n",
    "print(leiden_mod06)"
   ]
  },
  {
   "cell_type": "code",
   "execution_count": null,
   "id": "20859ee2",
   "metadata": {
    "pycharm": {
     "name": "#%%\n"
    }
   },
   "outputs": [],
   "source": [
    "#Conductance \n",
    "leiden_con06 = leiden_coms06.conductance(summary = False)\n",
    "print(leiden_con06)"
   ]
  },
  {
   "cell_type": "markdown",
   "id": "137f524d",
   "metadata": {
    "pycharm": {
     "name": "#%% md\n"
    }
   },
   "source": [
    "# 2007"
   ]
  },
  {
   "cell_type": "code",
   "execution_count": null,
   "id": "82629640",
   "metadata": {
    "pycharm": {
     "name": "#%%\n"
    }
   },
   "outputs": [],
   "source": [
    "G07 = solution.create_graphs(nodes2007, edges2007)\n",
    "print('2007:' + nx.info(G07))\n",
    "print('The graph is connected:') \n",
    "print(solution.conn_component(G07))\n",
    "print('________________________')\n",
    "print('2007 Edge weight')\n",
    "solution.edge_weight(G07)\n",
    "print('________________________')\n"
   ]
  },
  {
   "cell_type": "markdown",
   "id": "353b5ed0",
   "metadata": {
    "pycharm": {
     "name": "#%% md\n"
    }
   },
   "source": [
    "## Leiden "
   ]
  },
  {
   "cell_type": "code",
   "execution_count": null,
   "id": "e9f3380a",
   "metadata": {
    "pycharm": {
     "name": "#%%\n"
    }
   },
   "outputs": [],
   "source": [
    "#filtering \n",
    "Filter_07 = solution.filtering(G07,0)\n",
    "print(nx.is_connected(Filter_07))\n",
    "\n",
    "leiden_coms07 = solution.com_leiden(Filter_07)\n",
    "viz.plot_network_clusters(Filter_07, leiden_coms07)\n",
    "\n",
    "print(leiden_coms07.communities)"
   ]
  },
  {
   "cell_type": "code",
   "execution_count": null,
   "id": "4fe46805",
   "metadata": {
    "pycharm": {
     "name": "#%%\n"
    }
   },
   "outputs": [],
   "source": [
    "lei_com07 = len(leiden_coms07.communities)"
   ]
  },
  {
   "cell_type": "code",
   "execution_count": null,
   "id": "469b9845",
   "metadata": {
    "pycharm": {
     "name": "#%%\n"
    }
   },
   "outputs": [],
   "source": [
    "#Number of nodes for each community\n",
    "lei_size07 = leiden_coms07.size(summary = False)\n",
    "print(lei_size07)"
   ]
  },
  {
   "cell_type": "code",
   "execution_count": null,
   "id": "7daf6b65",
   "metadata": {
    "pycharm": {
     "name": "#%%\n"
    }
   },
   "outputs": [],
   "source": [
    "#number of edges for each community\n",
    "lei_edges07 = leiden_coms07.edges_inside(summary = False)\n",
    "print(lei_edges07)"
   ]
  },
  {
   "cell_type": "code",
   "execution_count": null,
   "id": "d7f2e903",
   "metadata": {
    "pycharm": {
     "name": "#%%\n"
    }
   },
   "outputs": [],
   "source": [
    "# Clustering Coefficient \n",
    "leiden_coeff07 = evaluation.avg_transitivity(Filter_07,leiden_coms07, summary = False)\n",
    "print(leiden_coeff07)"
   ]
  },
  {
   "cell_type": "code",
   "execution_count": null,
   "id": "b15745d2",
   "metadata": {
    "pycharm": {
     "name": "#%%\n"
    }
   },
   "outputs": [],
   "source": [
    "# Modularity\n",
    "leiden_mod07 = evaluation.newman_girvan_modularity(Filter_07,leiden_coms07)\n",
    "print(leiden_mod07)"
   ]
  },
  {
   "cell_type": "code",
   "execution_count": null,
   "id": "36f13f7e",
   "metadata": {
    "pycharm": {
     "name": "#%%\n"
    }
   },
   "outputs": [],
   "source": [
    "#Conductance \n",
    "leiden_con07 = leiden_coms07.conductance(summary = False)\n",
    "print(leiden_con07)"
   ]
  },
  {
   "cell_type": "markdown",
   "id": "75193caa",
   "metadata": {
    "pycharm": {
     "name": "#%% md\n"
    }
   },
   "source": [
    "# 2008"
   ]
  },
  {
   "cell_type": "code",
   "execution_count": null,
   "id": "56237946",
   "metadata": {
    "pycharm": {
     "name": "#%%\n"
    }
   },
   "outputs": [],
   "source": [
    "G08 = solution.create_graphs(nodes2008, edges2008)\n",
    "print('2008:' + nx.info(G08))\n",
    "print('The graph is connected:') \n",
    "print(solution.conn_component(G08))\n",
    "print('Number of connected components:')\n",
    "print(nx.number_connected_components(G08))\n",
    "print('________________________')\n",
    "print('2008 Edge weight')\n",
    "solution.edge_weight(G08)\n",
    "print('________________________')\n"
   ]
  },
  {
   "cell_type": "markdown",
   "id": "33cf0b1e",
   "metadata": {
    "pycharm": {
     "name": "#%% md\n"
    }
   },
   "source": [
    "#### Create subgraph with largest component "
   ]
  },
  {
   "cell_type": "code",
   "execution_count": null,
   "id": "ef1fa0d3",
   "metadata": {
    "pycharm": {
     "name": "#%%\n"
    }
   },
   "outputs": [],
   "source": [
    "new_G08 = solution.find_largest_component(G08)\n",
    "print(solution.conn_component(new_G08))\n",
    "print(nx.info(new_G08))\n",
    "print('________________________')\n",
    "print('2008 Edge weight')\n",
    "solution.edge_weight(G08)\n",
    "print('________________________')"
   ]
  },
  {
   "cell_type": "markdown",
   "id": "f45185d7",
   "metadata": {
    "pycharm": {
     "name": "#%% md\n"
    }
   },
   "source": [
    "## Leiden "
   ]
  },
  {
   "cell_type": "code",
   "execution_count": null,
   "id": "9b37adcf",
   "metadata": {
    "pycharm": {
     "name": "#%%\n"
    }
   },
   "outputs": [],
   "source": [
    "#filtering \n",
    "Filter_08 = solution.filtering(new_G08,0.0136)\n",
    "print(nx.is_connected(Filter_08))\n",
    "\n",
    "leiden_coms08 = solution.com_leiden(Filter_08)\n",
    "viz.plot_network_clusters(Filter_08, leiden_coms08)\n",
    "\n",
    "print(leiden_coms08.communities)"
   ]
  },
  {
   "cell_type": "code",
   "execution_count": null,
   "id": "c217dde7",
   "metadata": {
    "pycharm": {
     "name": "#%%\n"
    }
   },
   "outputs": [],
   "source": [
    "lei_com08 = len(leiden_coms08.communities)"
   ]
  },
  {
   "cell_type": "code",
   "execution_count": null,
   "id": "7a0115c4",
   "metadata": {
    "pycharm": {
     "name": "#%%\n"
    }
   },
   "outputs": [],
   "source": [
    "#Number of nodes for each community\n",
    "lei_size08 = leiden_coms08.size(summary = False)\n",
    "print(lei_size08)"
   ]
  },
  {
   "cell_type": "code",
   "execution_count": null,
   "id": "a0c668ba",
   "metadata": {
    "pycharm": {
     "name": "#%%\n"
    }
   },
   "outputs": [],
   "source": [
    "#number of edges for each community\n",
    "lei_edges08 = leiden_coms08.edges_inside(summary = False)\n",
    "print(lei_edges08)"
   ]
  },
  {
   "cell_type": "code",
   "execution_count": null,
   "id": "69b1428a",
   "metadata": {
    "pycharm": {
     "name": "#%%\n"
    }
   },
   "outputs": [],
   "source": [
    "# Clustering Coefficient \n",
    "leiden_coeff08 = evaluation.avg_transitivity(Filter_08,leiden_coms08, summary = False)\n",
    "print(leiden_coeff08)"
   ]
  },
  {
   "cell_type": "code",
   "execution_count": null,
   "id": "86107f4e",
   "metadata": {
    "pycharm": {
     "name": "#%%\n"
    }
   },
   "outputs": [],
   "source": [
    "# Modularity\n",
    "leiden_mod08 = evaluation.newman_girvan_modularity(Filter_08,leiden_coms08)\n",
    "print(leiden_mod08)"
   ]
  },
  {
   "cell_type": "code",
   "execution_count": null,
   "id": "da69a255",
   "metadata": {
    "pycharm": {
     "name": "#%%\n"
    }
   },
   "outputs": [],
   "source": [
    "#Conductance \n",
    "leiden_con08 = leiden_coms08.conductance(summary = False)\n",
    "print(leiden_con08)"
   ]
  },
  {
   "cell_type": "markdown",
   "id": "ebcbf91e",
   "metadata": {
    "pycharm": {
     "name": "#%% md\n"
    }
   },
   "source": [
    "# 2009 "
   ]
  },
  {
   "cell_type": "code",
   "execution_count": null,
   "id": "ae0a6bfd",
   "metadata": {
    "pycharm": {
     "name": "#%%\n"
    }
   },
   "outputs": [],
   "source": [
    "G09 = solution.create_graphs(nodes2009, edges2009)\n",
    "print('2009:' + nx.info(G09))\n",
    "print('The graph is connected:') \n",
    "print(solution.conn_component(G09))\n",
    "print('Number of connected components:')\n",
    "print(nx.number_connected_components(G09))\n",
    "print('________________________')\n",
    "print('2009 Edge weight')\n",
    "solution.edge_weight(G09)\n",
    "print('________________________')\n"
   ]
  },
  {
   "cell_type": "markdown",
   "id": "df6eac60",
   "metadata": {
    "pycharm": {
     "name": "#%% md\n"
    }
   },
   "source": [
    "#### Create subgraph with largest component "
   ]
  },
  {
   "cell_type": "code",
   "execution_count": null,
   "id": "66d5a4ba",
   "metadata": {
    "pycharm": {
     "name": "#%%\n"
    }
   },
   "outputs": [],
   "source": [
    "new_G09 = solution.find_largest_component(G09)\n",
    "print(solution.conn_component(new_G09))\n",
    "print(nx.info(new_G09))\n",
    "print('________________________')\n",
    "print('2009 Edge weight')\n",
    "solution.edge_weight(G09)\n",
    "print('________________________')"
   ]
  },
  {
   "cell_type": "markdown",
   "id": "d2ccb2e8",
   "metadata": {
    "pycharm": {
     "name": "#%% md\n"
    }
   },
   "source": [
    "## Leiden  "
   ]
  },
  {
   "cell_type": "code",
   "execution_count": null,
   "id": "ebd6433a",
   "metadata": {
    "pycharm": {
     "name": "#%%\n"
    }
   },
   "outputs": [],
   "source": [
    "#filtering \n",
    "Filter_09 = solution.filtering(new_G09,0)\n",
    "print(nx.is_connected(Filter_09))\n",
    "\n",
    "leiden_coms09 = solution.com_leiden(Filter_09)\n",
    "#viz.plot_network_clusters(Filter_09, leiden_coms09)\n",
    "\n",
    "print(leiden_coms09.communities)"
   ]
  },
  {
   "cell_type": "code",
   "execution_count": null,
   "id": "191f4359",
   "metadata": {
    "pycharm": {
     "name": "#%%\n"
    }
   },
   "outputs": [],
   "source": [
    "lei_com09 = len(leiden_coms09.communities)\n",
    "print(lei_com09)"
   ]
  },
  {
   "cell_type": "code",
   "execution_count": null,
   "id": "344fd3c0",
   "metadata": {
    "pycharm": {
     "name": "#%%\n"
    }
   },
   "outputs": [],
   "source": [
    "#Number of nodes for each community\n",
    "lei_size09 = leiden_coms09.size(summary = False)\n",
    "print(lei_size09)"
   ]
  },
  {
   "cell_type": "code",
   "execution_count": null,
   "id": "04be7e3d",
   "metadata": {
    "pycharm": {
     "name": "#%%\n"
    }
   },
   "outputs": [],
   "source": [
    "#number of edges for each community\n",
    "lei_edges09 = leiden_coms09.edges_inside(summary = False)\n",
    "print(lei_edges09)"
   ]
  },
  {
   "cell_type": "code",
   "execution_count": null,
   "id": "634ef538",
   "metadata": {
    "pycharm": {
     "name": "#%%\n"
    }
   },
   "outputs": [],
   "source": [
    "# Clustering Coefficient \n",
    "leiden_coeff09 = evaluation.avg_transitivity(Filter_09,leiden_coms09, summary = False)\n",
    "print(leiden_coeff09)"
   ]
  },
  {
   "cell_type": "code",
   "execution_count": null,
   "id": "56191026",
   "metadata": {
    "pycharm": {
     "name": "#%%\n"
    }
   },
   "outputs": [],
   "source": [
    "# Modularity\n",
    "leiden_mod09 = evaluation.newman_girvan_modularity(Filter_09,leiden_coms09)\n",
    "print(leiden_mod09)"
   ]
  },
  {
   "cell_type": "code",
   "execution_count": null,
   "id": "d5a20d7d",
   "metadata": {
    "pycharm": {
     "name": "#%%\n"
    }
   },
   "outputs": [],
   "source": [
    "#Conductance \n",
    "leiden_con09 = leiden_coms09.conductance(summary = False)\n",
    "print(leiden_con09)"
   ]
  },
  {
   "cell_type": "markdown",
   "id": "3b008a3a",
   "metadata": {
    "pycharm": {
     "name": "#%% md\n"
    }
   },
   "source": [
    "# 2010 "
   ]
  },
  {
   "cell_type": "code",
   "execution_count": null,
   "id": "1eb2b332",
   "metadata": {
    "pycharm": {
     "name": "#%%\n"
    }
   },
   "outputs": [],
   "source": [
    "G10 = solution.create_graphs(nodes2010, edges2010)\n",
    "print('2010:' + nx.info(G10))\n",
    "print('The graph is connected:') \n",
    "print(solution.conn_component(G10))\n",
    "print('Number of connected components:')\n",
    "print(nx.number_connected_components(G10))\n",
    "print('________________________')\n",
    "print('2010 Edge weight')\n",
    "solution.edge_weight(G10)\n",
    "print('________________________')\n",
    "\n"
   ]
  },
  {
   "cell_type": "markdown",
   "id": "8e853ca3",
   "metadata": {
    "pycharm": {
     "name": "#%% md\n"
    }
   },
   "source": [
    "#### Create subgraph with largest component "
   ]
  },
  {
   "cell_type": "code",
   "execution_count": null,
   "id": "3b9728da",
   "metadata": {
    "pycharm": {
     "name": "#%%\n"
    }
   },
   "outputs": [],
   "source": [
    "new_G10 = solution.find_largest_component(G10)\n",
    "print(solution.conn_component(new_G10))\n",
    "print(nx.info(new_G10))\n",
    "print('________________________')\n",
    "print('2010 Edge weight')\n",
    "solution.edge_weight(G10)\n",
    "print('________________________')\n"
   ]
  },
  {
   "cell_type": "markdown",
   "id": "981dae86",
   "metadata": {
    "pycharm": {
     "name": "#%% md\n"
    }
   },
   "source": [
    "## Leiden "
   ]
  },
  {
   "cell_type": "code",
   "execution_count": null,
   "id": "f0a9f392",
   "metadata": {
    "pycharm": {
     "name": "#%%\n"
    }
   },
   "outputs": [],
   "source": [
    "#filtering \n",
    "Filter_10 = solution.filtering(new_G10,0.006)\n",
    "print(nx.is_connected(Filter_10))\n",
    "\n",
    "leiden_coms10 = solution.com_leiden(Filter_10)\n",
    "#viz.plot_network_clusters(Filter_10, leiden_coms10)\n",
    "\n",
    "print(leiden_coms10.communities)"
   ]
  },
  {
   "cell_type": "code",
   "execution_count": null,
   "id": "cdc4380d",
   "metadata": {
    "pycharm": {
     "name": "#%%\n"
    }
   },
   "outputs": [],
   "source": [
    "lei_com10 = len(leiden_coms10.communities)"
   ]
  },
  {
   "cell_type": "code",
   "execution_count": null,
   "id": "1fe06ae6",
   "metadata": {
    "pycharm": {
     "name": "#%%\n"
    }
   },
   "outputs": [],
   "source": [
    "#Number of nodes for each community\n",
    "lei_size10 = leiden_coms10.size(summary = False)\n",
    "print(lei_size10)"
   ]
  },
  {
   "cell_type": "code",
   "execution_count": null,
   "id": "4f811c0e",
   "metadata": {
    "pycharm": {
     "name": "#%%\n"
    }
   },
   "outputs": [],
   "source": [
    "#number of edges for each community\n",
    "lei_edges10 = leiden_coms10.edges_inside(summary = False)\n",
    "print(lei_edges10)"
   ]
  },
  {
   "cell_type": "code",
   "execution_count": null,
   "id": "34c7aa49",
   "metadata": {
    "pycharm": {
     "name": "#%%\n"
    }
   },
   "outputs": [],
   "source": [
    "# Clustering Coefficient \n",
    "leiden_coeff10 = evaluation.avg_transitivity(Filter_10,leiden_coms10, summary = False)\n",
    "print(leiden_coeff10)"
   ]
  },
  {
   "cell_type": "code",
   "execution_count": null,
   "id": "4e829276",
   "metadata": {
    "pycharm": {
     "name": "#%%\n"
    }
   },
   "outputs": [],
   "source": [
    "# Modularity\n",
    "leiden_mod10 = evaluation.newman_girvan_modularity(Filter_10,leiden_coms10)\n",
    "print(leiden_mod10)"
   ]
  },
  {
   "cell_type": "code",
   "execution_count": null,
   "id": "3a7db72b",
   "metadata": {
    "pycharm": {
     "name": "#%%\n"
    }
   },
   "outputs": [],
   "source": [
    "#Conductance \n",
    "leiden_con10 = leiden_coms10.conductance(summary = False)\n",
    "print(leiden_con10)"
   ]
  },
  {
   "cell_type": "markdown",
   "id": "678b7dbc",
   "metadata": {
    "pycharm": {
     "name": "#%% md\n"
    }
   },
   "source": [
    "# 2011 "
   ]
  },
  {
   "cell_type": "code",
   "execution_count": null,
   "id": "f744be11",
   "metadata": {
    "pycharm": {
     "name": "#%%\n"
    }
   },
   "outputs": [],
   "source": [
    "G11 = solution.create_graphs(nodes2011, edges2011)\n",
    "print('2011:' + nx.info(G11))\n",
    "print('The graph is connected:') \n",
    "print(solution.conn_component(G11))\n",
    "print('Number of connected components:')\n",
    "print(nx.number_connected_components(G11))\n",
    "print('________________________')\n",
    "print('2011 Edge weight')\n",
    "solution.edge_weight(G11)\n",
    "print('________________________')\n"
   ]
  },
  {
   "cell_type": "markdown",
   "id": "e9db27f6",
   "metadata": {
    "pycharm": {
     "name": "#%% md\n"
    }
   },
   "source": [
    "#### Create subgraph with largest component "
   ]
  },
  {
   "cell_type": "code",
   "execution_count": null,
   "id": "6a673c49",
   "metadata": {
    "pycharm": {
     "name": "#%%\n"
    }
   },
   "outputs": [],
   "source": [
    "new_G11 = solution.find_largest_component(G11)\n",
    "print(solution.conn_component(new_G11))\n",
    "print(nx.info(new_G11))\n",
    "print('________________________')\n",
    "print('2011 Edge weight')\n",
    "solution.edge_weight(G11)\n",
    "print('________________________')\n"
   ]
  },
  {
   "cell_type": "markdown",
   "id": "99e85f43",
   "metadata": {
    "pycharm": {
     "name": "#%% md\n"
    }
   },
   "source": [
    "## Leiden  "
   ]
  },
  {
   "cell_type": "code",
   "execution_count": null,
   "id": "b635cfc0",
   "metadata": {
    "pycharm": {
     "name": "#%%\n"
    }
   },
   "outputs": [],
   "source": [
    "#filtering \n",
    "Filter_11 = solution.filtering(new_G11,0.0041)\n",
    "print(nx.is_connected(Filter_11))\n",
    "\n",
    "leiden_coms11 = solution.com_leiden(Filter_11)\n",
    "#viz.plot_network_clusters(Filter_11, leiden_coms11)\n",
    "\n",
    "print(leiden_coms11.communities)"
   ]
  },
  {
   "cell_type": "code",
   "execution_count": null,
   "id": "e47b8bfe",
   "metadata": {
    "pycharm": {
     "name": "#%%\n"
    }
   },
   "outputs": [],
   "source": [
    "lei_com11 = len(leiden_coms11.communities)"
   ]
  },
  {
   "cell_type": "code",
   "execution_count": null,
   "id": "43590b7b",
   "metadata": {
    "pycharm": {
     "name": "#%%\n"
    }
   },
   "outputs": [],
   "source": [
    "#Number of nodes for each community\n",
    "lei_size11 = leiden_coms11.size(summary = False)\n",
    "print(lei_size11)"
   ]
  },
  {
   "cell_type": "code",
   "execution_count": null,
   "id": "a17aafdb",
   "metadata": {
    "pycharm": {
     "name": "#%%\n"
    }
   },
   "outputs": [],
   "source": [
    "#number of edges for each community\n",
    "lei_edges11 = leiden_coms11.edges_inside(summary = False)\n",
    "print(lei_edges11)"
   ]
  },
  {
   "cell_type": "code",
   "execution_count": null,
   "id": "b91770c7",
   "metadata": {
    "pycharm": {
     "name": "#%%\n"
    }
   },
   "outputs": [],
   "source": [
    "# Clustering Coefficient \n",
    "leiden_coeff11 = evaluation.avg_transitivity(Filter_11,leiden_coms11, summary = False)\n",
    "print(leiden_coeff11)"
   ]
  },
  {
   "cell_type": "code",
   "execution_count": null,
   "id": "9bfd5bdf",
   "metadata": {
    "pycharm": {
     "name": "#%%\n"
    }
   },
   "outputs": [],
   "source": [
    "# Modularity\n",
    "leiden_mod11 = evaluation.newman_girvan_modularity(Filter_11,leiden_coms11)\n",
    "print(leiden_mod11)"
   ]
  },
  {
   "cell_type": "code",
   "execution_count": null,
   "id": "c60803d1",
   "metadata": {
    "pycharm": {
     "name": "#%%\n"
    }
   },
   "outputs": [],
   "source": [
    "#Conductance \n",
    "leiden_con11 = leiden_coms11.conductance(summary = False)\n",
    "print(leiden_con11)"
   ]
  },
  {
   "cell_type": "markdown",
   "id": "e3d90050",
   "metadata": {
    "pycharm": {
     "name": "#%% md\n"
    }
   },
   "source": [
    "# 2012 "
   ]
  },
  {
   "cell_type": "code",
   "execution_count": null,
   "id": "723aee62",
   "metadata": {
    "pycharm": {
     "name": "#%%\n"
    }
   },
   "outputs": [],
   "source": [
    "G12 = solution.create_graphs(nodes2012, edges2012)\n",
    "print('2012:' + nx.info(G12))\n",
    "print('The graph is connected:') \n",
    "print(solution.conn_component(G12))\n",
    "print('________________________')\n",
    "print('2012 Edge weight')\n",
    "solution.edge_weight(G12)\n",
    "print('________________________')\n"
   ]
  },
  {
   "cell_type": "markdown",
   "id": "dba9fe8d",
   "metadata": {
    "pycharm": {
     "name": "#%% md\n"
    }
   },
   "source": [
    "## Leiden "
   ]
  },
  {
   "cell_type": "code",
   "execution_count": null,
   "id": "d8327e2f",
   "metadata": {
    "pycharm": {
     "name": "#%%\n"
    }
   },
   "outputs": [],
   "source": [
    "#filtering \n",
    "Filter_12 = solution.filtering(G12,0.207)\n",
    "print(nx.is_connected(Filter_12))\n",
    "\n",
    "leiden_coms12 = solution.com_leiden(Filter_12)\n",
    "#viz.plot_network_clusters(Filter_12, leiden_coms12)\n",
    "\n",
    "print(leiden_coms12.communities)"
   ]
  },
  {
   "cell_type": "code",
   "execution_count": null,
   "id": "a42f541a",
   "metadata": {
    "pycharm": {
     "name": "#%%\n"
    }
   },
   "outputs": [],
   "source": [
    "lei_com12 = len(leiden_coms12.communities)"
   ]
  },
  {
   "cell_type": "code",
   "execution_count": null,
   "id": "37249ca6",
   "metadata": {
    "pycharm": {
     "name": "#%%\n"
    }
   },
   "outputs": [],
   "source": [
    "#Number of nodes for each community\n",
    "lei_size12 = leiden_coms12.size(summary = False)\n",
    "print(lei_size12)"
   ]
  },
  {
   "cell_type": "code",
   "execution_count": null,
   "id": "b92110de",
   "metadata": {
    "pycharm": {
     "name": "#%%\n"
    }
   },
   "outputs": [],
   "source": [
    "#number of edges for each community\n",
    "lei_edges12 = leiden_coms12.edges_inside(summary = False)\n",
    "print(lei_edges12)"
   ]
  },
  {
   "cell_type": "code",
   "execution_count": null,
   "id": "d67ee4a9",
   "metadata": {
    "pycharm": {
     "name": "#%%\n"
    }
   },
   "outputs": [],
   "source": [
    "# Clustering Coefficient \n",
    "leiden_coeff12 = evaluation.avg_transitivity(Filter_12,leiden_coms12, summary = False)\n",
    "print(leiden_coeff12)"
   ]
  },
  {
   "cell_type": "code",
   "execution_count": null,
   "id": "83cffabd",
   "metadata": {
    "pycharm": {
     "name": "#%%\n"
    }
   },
   "outputs": [],
   "source": [
    "# Modularity\n",
    "leiden_mod12 = leiden_coms12.newman_girvan_modularity()\n",
    "print(leiden_mod12)"
   ]
  },
  {
   "cell_type": "code",
   "execution_count": null,
   "id": "de4ca41f",
   "metadata": {
    "pycharm": {
     "name": "#%%\n"
    }
   },
   "outputs": [],
   "source": [
    "#Conductance \n",
    "leiden_con12 = leiden_coms12.conductance(summary = False)\n",
    "print(leiden_con12)"
   ]
  },
  {
   "cell_type": "markdown",
   "id": "015cecb0",
   "metadata": {
    "pycharm": {
     "name": "#%% md\n"
    }
   },
   "source": [
    "# 2013 "
   ]
  },
  {
   "cell_type": "code",
   "execution_count": null,
   "id": "34232d71",
   "metadata": {
    "pycharm": {
     "name": "#%%\n"
    }
   },
   "outputs": [],
   "source": [
    "G13 = solution.create_graphs(nodes2013, edges2013)\n",
    "print('2013:' + nx.info(G13))\n",
    "print('The graph is connected:') \n",
    "print(solution.conn_component(G13))\n",
    "print('________________________')\n",
    "print('2013 Edge weight')\n",
    "solution.edge_weight(G13)\n",
    "print('________________________')\n"
   ]
  },
  {
   "cell_type": "markdown",
   "id": "b5c3c65c",
   "metadata": {
    "pycharm": {
     "name": "#%% md\n"
    }
   },
   "source": [
    "## Leiden "
   ]
  },
  {
   "cell_type": "code",
   "execution_count": null,
   "id": "fc8210cf",
   "metadata": {
    "pycharm": {
     "name": "#%%\n"
    }
   },
   "outputs": [],
   "source": [
    "#filtering \n",
    "Filter_13 = solution.filtering(G13,0.184)\n",
    "print(nx.is_connected(Filter_13))\n",
    "\n",
    "leiden_coms13 = solution.com_leiden(Filter_13)\n",
    "#viz.plot_network_clusters(Filter_13, leiden_coms13)\n",
    "\n",
    "print(leiden_coms13.communities)"
   ]
  },
  {
   "cell_type": "code",
   "execution_count": null,
   "id": "d93523d4",
   "metadata": {
    "pycharm": {
     "name": "#%%\n"
    }
   },
   "outputs": [],
   "source": [
    "#Number of communities\n",
    "lei_com13 = len(leiden_coms13.communities)"
   ]
  },
  {
   "cell_type": "code",
   "execution_count": null,
   "id": "84ad3bdb",
   "metadata": {
    "pycharm": {
     "name": "#%%\n"
    }
   },
   "outputs": [],
   "source": [
    "#Number of nodes for each community\n",
    "lei_size13 = leiden_coms13.size(summary = False)\n",
    "print(lei_size13)"
   ]
  },
  {
   "cell_type": "code",
   "execution_count": null,
   "id": "1ca8ebe2",
   "metadata": {
    "pycharm": {
     "name": "#%%\n"
    }
   },
   "outputs": [],
   "source": [
    "#number of edges for each community\n",
    "lei_edges13 = leiden_coms13.edges_inside(summary = False)\n",
    "print(lei_edges13)"
   ]
  },
  {
   "cell_type": "code",
   "execution_count": null,
   "id": "25a8dc36",
   "metadata": {
    "pycharm": {
     "is_executing": true,
     "name": "#%%\n"
    }
   },
   "outputs": [],
   "source": [
    "# Clustering Coefficient \n",
    "leiden_coeff13 = evaluation.avg_transitivity(Filter_13,leiden_coms13, summary = False)\n",
    "print(leiden_coeff13)"
   ]
  },
  {
   "cell_type": "code",
   "execution_count": null,
   "id": "39e7bfcc",
   "metadata": {
    "pycharm": {
     "name": "#%%\n"
    }
   },
   "outputs": [],
   "source": [
    "# Modularity\n",
    "leiden_mod13 = leiden_coms13.newman_girvan_modularity()\n",
    "print(leiden_mod13)"
   ]
  },
  {
   "cell_type": "code",
   "execution_count": null,
   "id": "c14346bc",
   "metadata": {
    "pycharm": {
     "name": "#%%\n"
    }
   },
   "outputs": [],
   "source": [
    "#Conductance \n",
    "leiden_con13 = leiden_coms13.conductance(summary = False)\n",
    "print(leiden_con13)"
   ]
  },
  {
   "cell_type": "markdown",
   "id": "e6dc553a",
   "metadata": {
    "pycharm": {
     "name": "#%% md\n"
    }
   },
   "source": [
    "# 2014 "
   ]
  },
  {
   "cell_type": "code",
   "execution_count": null,
   "id": "826e08a9",
   "metadata": {
    "pycharm": {
     "name": "#%%\n"
    }
   },
   "outputs": [],
   "source": [
    "G14 = solution.create_graphs(nodes2014, edges2014)\n",
    "print('2014:' + nx.info(G14))\n",
    "print('The graph is connected:') \n",
    "print(solution.conn_component(G14))\n",
    "print('________________________')\n",
    "print('2014 Edge weight')\n",
    "solution.edge_weight(G14)\n",
    "print('________________________')\n"
   ]
  },
  {
   "cell_type": "markdown",
   "id": "92f1d4ac",
   "metadata": {
    "pycharm": {
     "name": "#%% md\n"
    }
   },
   "source": [
    "## Leiden"
   ]
  },
  {
   "cell_type": "code",
   "execution_count": null,
   "id": "0d37b468",
   "metadata": {
    "pycharm": {
     "name": "#%%\n"
    }
   },
   "outputs": [],
   "source": [
    "#filtering \n",
    "Filter_14 = solution.filtering(G14,0.37)\n",
    "print(nx.is_connected(Filter_14))\n",
    "\n",
    "leiden_coms14 = solution.com_leiden(Filter_14)\n",
    "#viz.plot_network_clusters(Filter_14, leiden_coms14)\n",
    "\n",
    "print(leiden_coms14.communities)"
   ]
  },
  {
   "cell_type": "code",
   "execution_count": null,
   "id": "aec44016",
   "metadata": {
    "pycharm": {
     "name": "#%%\n"
    }
   },
   "outputs": [],
   "source": [
    "#Number of communities\n",
    "lei_com14 = len(leiden_coms14.communities)"
   ]
  },
  {
   "cell_type": "code",
   "execution_count": null,
   "id": "fdfe923c",
   "metadata": {
    "pycharm": {
     "name": "#%%\n"
    }
   },
   "outputs": [],
   "source": [
    "#Number of nodes for each community\n",
    "lei_size14 = leiden_coms14.size(summary = False)\n",
    "print(lei_size14)"
   ]
  },
  {
   "cell_type": "code",
   "execution_count": null,
   "id": "51ac8c5d",
   "metadata": {
    "pycharm": {
     "name": "#%%\n"
    }
   },
   "outputs": [],
   "source": [
    "#number of edges for each community\n",
    "lei_edges14 = leiden_coms14.edges_inside(summary = False)\n",
    "print(lei_edges14)"
   ]
  },
  {
   "cell_type": "code",
   "execution_count": null,
   "id": "108f18bc",
   "metadata": {
    "pycharm": {
     "name": "#%%\n"
    }
   },
   "outputs": [],
   "source": [
    "# Clustering Coefficient \n",
    "leiden_coeff14 = evaluation.avg_transitivity(Filter_14,leiden_coms14, summary = False)\n",
    "print(leiden_coeff14)"
   ]
  },
  {
   "cell_type": "code",
   "execution_count": null,
   "id": "3de73ad4",
   "metadata": {
    "pycharm": {
     "name": "#%%\n"
    }
   },
   "outputs": [],
   "source": [
    "# Modularity\n",
    "leiden_mod14 = leiden_coms14.newman_girvan_modularity()\n",
    "print(leiden_mod14)"
   ]
  },
  {
   "cell_type": "code",
   "execution_count": null,
   "id": "1a0d0386",
   "metadata": {
    "pycharm": {
     "name": "#%%\n"
    }
   },
   "outputs": [],
   "source": [
    "#Conductance \n",
    "leiden_con14 = leiden_coms14.conductance(summary = False)\n",
    "print(leiden_con14)"
   ]
  },
  {
   "cell_type": "markdown",
   "id": "e758ddf1",
   "metadata": {
    "pycharm": {
     "name": "#%% md\n"
    }
   },
   "source": [
    "# 2015 "
   ]
  },
  {
   "cell_type": "code",
   "execution_count": null,
   "id": "c4a02285",
   "metadata": {
    "pycharm": {
     "name": "#%%\n"
    }
   },
   "outputs": [],
   "source": [
    "G15 = solution.create_graphs(nodes2015, edges2015)\n",
    "print('2015:' + nx.info(G15))\n",
    "print('The graph is connected:') \n",
    "print(solution.conn_component(G15))\n",
    "print('________________________')\n",
    "print('2015 Edge weight')\n",
    "solution.edge_weight(G15)\n",
    "print('________________________')\n"
   ]
  },
  {
   "cell_type": "markdown",
   "id": "29617fff",
   "metadata": {
    "pycharm": {
     "name": "#%% md\n"
    }
   },
   "source": [
    "## Leiden"
   ]
  },
  {
   "cell_type": "code",
   "execution_count": null,
   "id": "d8efbc85",
   "metadata": {
    "pycharm": {
     "name": "#%%\n"
    }
   },
   "outputs": [],
   "source": [
    "#filtering \n",
    "Filter_15 = solution.filtering(G15,0.014)\n",
    "print(nx.is_connected(Filter_15))\n",
    "\n",
    "leiden_coms15 = solution.com_leiden(Filter_15)\n",
    "#viz.plot_network_clusters(Filter_15, leiden_coms15)\n",
    "\n",
    "print(leiden_coms15.communities)"
   ]
  },
  {
   "cell_type": "code",
   "execution_count": null,
   "id": "be8751bc",
   "metadata": {
    "pycharm": {
     "name": "#%%\n"
    }
   },
   "outputs": [],
   "source": [
    "lei_com15 = len(leiden_coms15.communities)\n",
    "print(lei_com15)"
   ]
  },
  {
   "cell_type": "code",
   "execution_count": null,
   "id": "07e54755",
   "metadata": {
    "pycharm": {
     "name": "#%%\n"
    }
   },
   "outputs": [],
   "source": [
    "#Number of nodes for each community\n",
    "lei_size15 = leiden_coms15.size(summary = False)\n",
    "print(lei_size15)"
   ]
  },
  {
   "cell_type": "code",
   "execution_count": null,
   "id": "d9898004",
   "metadata": {
    "pycharm": {
     "name": "#%%\n"
    }
   },
   "outputs": [],
   "source": [
    "#number of edges for each community\n",
    "lei_edges15 = leiden_coms15.edges_inside(summary = False)\n",
    "print(lei_edges15)"
   ]
  },
  {
   "cell_type": "code",
   "execution_count": null,
   "id": "ee6db194",
   "metadata": {
    "pycharm": {
     "name": "#%%\n"
    }
   },
   "outputs": [],
   "source": [
    "# Clustering Coefficient \n",
    "leiden_coeff15 = evaluation.avg_transitivity(Filter_15,leiden_coms15, summary = False)\n",
    "print(leiden_coeff15)"
   ]
  },
  {
   "cell_type": "code",
   "execution_count": null,
   "id": "20f9bc7a",
   "metadata": {
    "pycharm": {
     "name": "#%%\n"
    }
   },
   "outputs": [],
   "source": [
    "# Modularity\n",
    "leiden_mod15 = leiden_coms15.newman_girvan_modularity()\n",
    "print(leiden_mod15)"
   ]
  },
  {
   "cell_type": "code",
   "execution_count": null,
   "id": "43c6b75d",
   "metadata": {
    "pycharm": {
     "name": "#%%\n"
    }
   },
   "outputs": [],
   "source": [
    "#Conductance \n",
    "leiden_con15 = leiden_coms15.conductance(summary = False)\n",
    "print(leiden_con15)"
   ]
  },
  {
   "cell_type": "markdown",
   "id": "a5634e69",
   "metadata": {
    "pycharm": {
     "name": "#%% md\n"
    }
   },
   "source": [
    "# 2016 "
   ]
  },
  {
   "cell_type": "code",
   "execution_count": null,
   "id": "67438d8b",
   "metadata": {
    "pycharm": {
     "name": "#%%\n"
    }
   },
   "outputs": [],
   "source": [
    "G16 = solution.create_graphs(nodes2016, edges2016)\n",
    "print('2016:' + nx.info(G16))\n",
    "print('The graph is connected:') \n",
    "print(solution.conn_component(G16))\n",
    "print('________________________')\n",
    "print('2016 Edge weight')\n",
    "solution.edge_weight(G16)\n",
    "print('________________________')\n"
   ]
  },
  {
   "cell_type": "markdown",
   "id": "02d15f52",
   "metadata": {
    "pycharm": {
     "name": "#%% md\n"
    }
   },
   "source": [
    "## Leiden"
   ]
  },
  {
   "cell_type": "code",
   "execution_count": null,
   "id": "01ebf40f",
   "metadata": {
    "pycharm": {
     "name": "#%%\n"
    }
   },
   "outputs": [],
   "source": [
    "#filtering \n",
    "Filter_16 = solution.filtering(G16,0.111)\n",
    "print(nx.is_connected(Filter_16))\n",
    "\n",
    "leiden_coms16 = solution.com_leiden(Filter_16)\n",
    "#viz.plot_network_clusters(Filter_16, leiden_coms16)\n",
    "\n",
    "print(leiden_coms16.communities)"
   ]
  },
  {
   "cell_type": "code",
   "execution_count": null,
   "id": "4f9750e0",
   "metadata": {
    "pycharm": {
     "name": "#%%\n"
    }
   },
   "outputs": [],
   "source": [
    "lei_com16 = len(leiden_coms16.communities)"
   ]
  },
  {
   "cell_type": "code",
   "execution_count": null,
   "id": "6fe16f9e",
   "metadata": {
    "pycharm": {
     "name": "#%%\n"
    }
   },
   "outputs": [],
   "source": [
    "#Number of nodes for each community\n",
    "lei_size16 = leiden_coms16.size(summary = False)\n",
    "print(lei_size16)"
   ]
  },
  {
   "cell_type": "code",
   "execution_count": null,
   "id": "2de457c0",
   "metadata": {
    "pycharm": {
     "name": "#%%\n"
    }
   },
   "outputs": [],
   "source": [
    "#number of edges for each community\n",
    "lei_edges16 = leiden_coms16.edges_inside(summary = False)\n",
    "print(lei_edges16)"
   ]
  },
  {
   "cell_type": "code",
   "execution_count": null,
   "id": "c9777352",
   "metadata": {
    "pycharm": {
     "name": "#%%\n"
    }
   },
   "outputs": [],
   "source": [
    "# Clustering Coefficient \n",
    "leiden_coeff16 = evaluation.avg_transitivity(Filter_16,leiden_coms16, summary = False)\n",
    "print(leiden_coeff16)"
   ]
  },
  {
   "cell_type": "code",
   "execution_count": null,
   "id": "aaeaf8c7",
   "metadata": {
    "pycharm": {
     "name": "#%%\n"
    }
   },
   "outputs": [],
   "source": [
    "# Modularity\n",
    "leiden_mod16 = leiden_coms16.newman_girvan_modularity()\n",
    "print(leiden_mod16)"
   ]
  },
  {
   "cell_type": "code",
   "execution_count": null,
   "id": "907dd50e",
   "metadata": {
    "pycharm": {
     "name": "#%%\n"
    }
   },
   "outputs": [],
   "source": [
    "#Conductance \n",
    "leiden_con16 = leiden_coms16.conductance(summary = False)\n",
    "print(leiden_con16)"
   ]
  },
  {
   "cell_type": "markdown",
   "id": "41008556",
   "metadata": {
    "pycharm": {
     "name": "#%% md\n"
    }
   },
   "source": [
    "# 2017"
   ]
  },
  {
   "cell_type": "code",
   "execution_count": null,
   "id": "75bed38d",
   "metadata": {
    "pycharm": {
     "name": "#%%\n"
    }
   },
   "outputs": [],
   "source": [
    "G17 = solution.create_graphs(nodes2017, edges2017)\n",
    "print('2017:' + nx.info(G17))\n",
    "print('The graph is connected:') \n",
    "print(solution.conn_component(G17))\n",
    "print('________________________')\n",
    "print('2017 Edge weight')\n",
    "solution.edge_weight(G17)\n",
    "print('________________________')\n"
   ]
  },
  {
   "cell_type": "markdown",
   "id": "d84adacc",
   "metadata": {
    "pycharm": {
     "name": "#%% md\n"
    }
   },
   "source": [
    "## Leiden"
   ]
  },
  {
   "cell_type": "code",
   "execution_count": null,
   "id": "73a66182",
   "metadata": {
    "pycharm": {
     "name": "#%%\n"
    }
   },
   "outputs": [],
   "source": [
    "#filtering \n",
    "Filter_17 = solution.filtering(G17,0.616)\n",
    "print(nx.is_connected(Filter_17))\n",
    "\n",
    "leiden_coms17 = solution.com_leiden(Filter_17)\n",
    "#viz.plot_network_clusters(Filter_17, leiden_coms17)\n",
    "\n",
    "print(leiden_coms17.communities)"
   ]
  },
  {
   "cell_type": "code",
   "execution_count": null,
   "id": "a9fd7300",
   "metadata": {
    "pycharm": {
     "name": "#%%\n"
    }
   },
   "outputs": [],
   "source": [
    "lei_com17 = len(leiden_coms17.communities)\n",
    "print(lei_com17)"
   ]
  },
  {
   "cell_type": "code",
   "execution_count": null,
   "id": "0de9470d",
   "metadata": {
    "pycharm": {
     "name": "#%%\n"
    }
   },
   "outputs": [],
   "source": [
    "#Number of nodes for each community\n",
    "lei_size17 = leiden_coms17.size(summary = False)\n",
    "print(lei_size17)"
   ]
  },
  {
   "cell_type": "code",
   "execution_count": null,
   "id": "ec90eedb",
   "metadata": {
    "pycharm": {
     "name": "#%%\n"
    }
   },
   "outputs": [],
   "source": [
    "#number of edges for each community\n",
    "lei_edges17 = leiden_coms17.edges_inside(summary = False)\n",
    "print(lei_edges17)"
   ]
  },
  {
   "cell_type": "code",
   "execution_count": null,
   "id": "4c4f5b3a",
   "metadata": {
    "pycharm": {
     "name": "#%%\n"
    }
   },
   "outputs": [],
   "source": [
    "# Clustering Coefficient \n",
    "leiden_coeff17 = evaluation.avg_transitivity(Filter_17,leiden_coms17, summary = False)\n",
    "print(leiden_coeff17)"
   ]
  },
  {
   "cell_type": "code",
   "execution_count": null,
   "id": "6ae15b0d",
   "metadata": {
    "pycharm": {
     "name": "#%%\n"
    }
   },
   "outputs": [],
   "source": [
    "# Modularity\n",
    "leiden_mod17 = leiden_coms17.newman_girvan_modularity()\n",
    "print(leiden_mod17)"
   ]
  },
  {
   "cell_type": "code",
   "execution_count": null,
   "id": "a82d1e1a",
   "metadata": {
    "pycharm": {
     "name": "#%%\n"
    }
   },
   "outputs": [],
   "source": [
    "#Conductance \n",
    "leiden_con17 = leiden_coms17.conductance(summary = False)\n",
    "print(leiden_con17)"
   ]
  },
  {
   "cell_type": "markdown",
   "id": "0fd844fe",
   "metadata": {
    "pycharm": {
     "name": "#%% md\n"
    }
   },
   "source": [
    "# 2018 "
   ]
  },
  {
   "cell_type": "code",
   "execution_count": null,
   "id": "01bd5a16",
   "metadata": {
    "pycharm": {
     "name": "#%%\n"
    }
   },
   "outputs": [],
   "source": [
    "G18 = solution.create_graphs(nodes2018, edges2018)\n",
    "print('2018:' + nx.info(G18))\n",
    "print('The graph is connected:') \n",
    "print(solution.conn_component(G18))\n",
    "print('2018 Edge weight')\n",
    "solution.edge_weight(G18)\n",
    "print('________________________')\n"
   ]
  },
  {
   "cell_type": "markdown",
   "id": "24615e7a",
   "metadata": {
    "pycharm": {
     "name": "#%% md\n"
    }
   },
   "source": [
    "## Leiden"
   ]
  },
  {
   "cell_type": "code",
   "execution_count": null,
   "id": "39739045",
   "metadata": {
    "pycharm": {
     "name": "#%%\n"
    }
   },
   "outputs": [],
   "source": [
    "#filtering \n",
    "Filter_18 = solution.filtering(G18,0.872)\n",
    "print(nx.is_connected(Filter_18))\n",
    "\n",
    "leiden_coms18 = solution.com_leiden(Filter_18)\n",
    "#viz.plot_network_clusters(Filter_18, leiden_coms18)\n",
    "\n",
    "print(leiden_coms18.communities)"
   ]
  },
  {
   "cell_type": "code",
   "execution_count": null,
   "id": "a003620e",
   "metadata": {
    "pycharm": {
     "name": "#%%\n"
    }
   },
   "outputs": [],
   "source": [
    "lei_com18 = len(leiden_coms18.communities)"
   ]
  },
  {
   "cell_type": "code",
   "execution_count": null,
   "id": "9bc28736",
   "metadata": {
    "pycharm": {
     "name": "#%%\n"
    }
   },
   "outputs": [],
   "source": [
    "#Number of nodes for each community\n",
    "lei_size18 = leiden_coms18.size(summary = False)\n",
    "print(lei_size18)"
   ]
  },
  {
   "cell_type": "code",
   "execution_count": null,
   "id": "96d119f8",
   "metadata": {
    "pycharm": {
     "name": "#%%\n"
    }
   },
   "outputs": [],
   "source": [
    "#number of edges for each community\n",
    "lei_edges18 = leiden_coms18.edges_inside(summary = False)\n",
    "print(lei_edges18)"
   ]
  },
  {
   "cell_type": "code",
   "execution_count": null,
   "id": "5eb2b24b",
   "metadata": {
    "pycharm": {
     "name": "#%%\n"
    }
   },
   "outputs": [],
   "source": [
    "# Clustering Coefficient \n",
    "leiden_coeff18 = evaluation.avg_transitivity(Filter_18,leiden_coms18, summary = False)\n",
    "print(leiden_coeff18)"
   ]
  },
  {
   "cell_type": "code",
   "execution_count": null,
   "id": "4b352065",
   "metadata": {
    "pycharm": {
     "name": "#%%\n"
    }
   },
   "outputs": [],
   "source": [
    "# Modularity\n",
    "leiden_mod18 = leiden_coms18.newman_girvan_modularity()\n",
    "print(leiden_mod18)"
   ]
  },
  {
   "cell_type": "code",
   "execution_count": null,
   "id": "dceae6e9",
   "metadata": {
    "pycharm": {
     "name": "#%%\n"
    }
   },
   "outputs": [],
   "source": [
    "#Conductance \n",
    "leiden_con18 = leiden_coms18.conductance(summary = False)\n",
    "print(leiden_con18)"
   ]
  },
  {
   "cell_type": "markdown",
   "id": "a3e5b3d2",
   "metadata": {
    "pycharm": {
     "name": "#%% md\n"
    }
   },
   "source": [
    "# 2019 "
   ]
  },
  {
   "cell_type": "code",
   "execution_count": null,
   "id": "f489dc14",
   "metadata": {
    "pycharm": {
     "name": "#%%\n"
    }
   },
   "outputs": [],
   "source": [
    "G19 = solution.create_graphs(nodes2019, edges2019)\n",
    "print('2019:' + nx.info(G19))\n",
    "print('The graph is connected:') \n",
    "print(solution.conn_component(G19))\n",
    "print('________________________')\n",
    "print('2019 Edge weight')\n",
    "solution.edge_weight(G19)\n",
    "print('________________________')"
   ]
  },
  {
   "cell_type": "markdown",
   "id": "854d167f",
   "metadata": {
    "pycharm": {
     "name": "#%% md\n"
    }
   },
   "source": [
    "## Leiden"
   ]
  },
  {
   "cell_type": "code",
   "execution_count": null,
   "id": "299fd4e6",
   "metadata": {
    "pycharm": {
     "name": "#%%\n"
    }
   },
   "outputs": [],
   "source": [
    "#filtering \n",
    "Filter_19 = solution.filtering(G19,0.362)\n",
    "print(nx.is_connected(Filter_19))\n",
    "\n",
    "leiden_coms19 = solution.com_leiden(Filter_19)\n",
    "#viz.plot_network_clusters(Filter_19, leiden_coms19)\n",
    "\n",
    "print(leiden_coms19.communities)"
   ]
  },
  {
   "cell_type": "code",
   "execution_count": null,
   "id": "e332cdf1",
   "metadata": {
    "pycharm": {
     "name": "#%%\n"
    }
   },
   "outputs": [],
   "source": [
    "lei_com19 = len(leiden_coms19.communities)"
   ]
  },
  {
   "cell_type": "code",
   "execution_count": null,
   "id": "919e81fb",
   "metadata": {
    "pycharm": {
     "name": "#%%\n"
    }
   },
   "outputs": [],
   "source": [
    "#Number of nodes for each community\n",
    "lei_size19 = leiden_coms19.size(summary = False)\n",
    "print(lei_size19)"
   ]
  },
  {
   "cell_type": "code",
   "execution_count": null,
   "id": "8ee34859",
   "metadata": {
    "pycharm": {
     "name": "#%%\n"
    }
   },
   "outputs": [],
   "source": [
    "#number of edges for each community\n",
    "lei_edges19 = leiden_coms19.edges_inside(summary = False)\n",
    "print(lei_edges19)"
   ]
  },
  {
   "cell_type": "code",
   "execution_count": null,
   "id": "33b26e06",
   "metadata": {
    "pycharm": {
     "name": "#%%\n"
    }
   },
   "outputs": [],
   "source": [
    "# Clustering Coefficient \n",
    "leiden_coeff19 = evaluation.avg_transitivity(Filter_19,leiden_coms19, summary = False)\n",
    "print(leiden_coeff19)"
   ]
  },
  {
   "cell_type": "code",
   "execution_count": null,
   "id": "0a669e3d",
   "metadata": {
    "pycharm": {
     "name": "#%%\n"
    }
   },
   "outputs": [],
   "source": [
    "# Modularity\n",
    "leiden_mod19 = leiden_coms19.newman_girvan_modularity()\n",
    "print(leiden_mod19)"
   ]
  },
  {
   "cell_type": "code",
   "execution_count": null,
   "id": "178debf0",
   "metadata": {
    "pycharm": {
     "name": "#%%\n"
    }
   },
   "outputs": [],
   "source": [
    "#Conductance \n",
    "leiden_con19 = leiden_coms19.conductance(summary = False)\n",
    "print(leiden_con19)"
   ]
  },
  {
   "cell_type": "markdown",
   "id": "7be2a78b",
   "metadata": {
    "pycharm": {
     "name": "#%% md\n"
    }
   },
   "source": [
    "# Plots for Leiden Community Detection  "
   ]
  },
  {
   "cell_type": "markdown",
   "id": "e824442c",
   "metadata": {
    "pycharm": {
     "name": "#%% md\n"
    }
   },
   "source": [
    "#### Number of Communities for each time-slice"
   ]
  },
  {
   "cell_type": "code",
   "execution_count": null,
   "id": "459085ce",
   "metadata": {
    "pycharm": {
     "name": "#%%\n"
    }
   },
   "outputs": [],
   "source": [
    "# Create figure \n",
    "fig = plt.figure()\n",
    "# Add axes object to figure \n",
    "ax = fig.add_axes([1, 1, 1, 1])\n",
    "\n",
    "x = ['2006', '2007', '2008','2009', '2010', '2011', '2012', '2013',\n",
    "        '2014', '2015', '2016', '2017', '2018', '2019']\n",
    "comlei = [lei_com06, lei_com07, lei_com08, lei_com09, lei_com10, lei_com11,\n",
    "      lei_com12, lei_com13, lei_com14, lei_com15, lei_com16, lei_com17,\n",
    "      lei_com18, lei_com19]\n",
    "\n",
    "x_ticks = range(len(x))\n",
    "plt.xticks(x_ticks, x)\n",
    "\n",
    "plt.yticks(np.arange(0, max(comlei)+10, 5))\n",
    "plt.plot(comlei, marker='o')\n",
    "\n",
    "plt.title('Leiden - Number of Communities')\n",
    "plt.xlabel('$Year$')\n",
    "plt.ylabel('$Number of communities$')\n",
    "\n",
    "\n",
    "\n",
    "plt.show()"
   ]
  },
  {
   "cell_type": "markdown",
   "id": "edeb1750",
   "metadata": {
    "pycharm": {
     "name": "#%% md\n"
    }
   },
   "source": [
    "#### Clustering Coefficent  "
   ]
  },
  {
   "cell_type": "markdown",
   "id": "2fa7475f",
   "metadata": {
    "pycharm": {
     "name": "#%% md\n"
    }
   },
   "source": [
    "viz.plot_com_properties_relation([leiden_coms06], evaluation.size, evaluation.avg_transitivity)\n",
    "print(2006)"
   ]
  },
  {
   "cell_type": "markdown",
   "id": "6b0ba494",
   "metadata": {
    "pycharm": {
     "name": "#%% md\n"
    }
   },
   "source": [
    "#### Size and edges "
   ]
  },
  {
   "cell_type": "code",
   "execution_count": null,
   "id": "6280e053",
   "metadata": {
    "pycharm": {
     "name": "#%%\n"
    }
   },
   "outputs": [],
   "source": [
    "#Create figure \n",
    "fig = plt.figure()\n",
    "# Add axes object to figure \n",
    "ax = fig.add_axes([1, 1, 1, 1])\n",
    "\n",
    "x06 = lei_size06\n",
    "y06 = lei_edges06\n",
    "plt.plot(x06, y06 ,label ='2006', marker='o')\n",
    "\n",
    "\n",
    "x07 = lei_size07\n",
    "y07 = lei_edges07\n",
    "plt.plot(x07, y07, label='2007', marker='o')\n",
    "\n",
    "#y08 = leiden_con08\n",
    "#plt.plot(y08, label='2008', marker='o')\n",
    "\n",
    "plt.xticks(np.arange(0, max(x06)+3, 1))\n",
    "\n",
    "plt.title('Leiden - Communty Size and Number of Edges')\n",
    "plt.xlabel('$Size$')\n",
    "plt.ylabel('$Number of Edges$')\n",
    "plt.legend()\n",
    "plt.show()"
   ]
  },
  {
   "cell_type": "code",
   "execution_count": null,
   "id": "c1c423bd",
   "metadata": {
    "pycharm": {
     "name": "#%%\n"
    }
   },
   "outputs": [],
   "source": [
    "#Create figure \n",
    "fig = plt.figure()\n",
    "# Add axes object to figure \n",
    "ax = fig.add_axes([1, 1, 1, 1])\n",
    "\n",
    "x08 = lei_size08\n",
    "y08 = lei_edges08\n",
    "plt.plot(x08, y08 ,label ='2008', marker='o')\n",
    "\n",
    "\n",
    "x09 = lei_size09\n",
    "y09 = lei_edges09\n",
    "plt.plot(x09, y09, label='2009', marker='o')\n",
    "\n",
    "\n",
    "x10 = lei_size10\n",
    "y10 = lei_edges10\n",
    "plt.plot(x10, y10, label='2010', marker='o')\n",
    "\n",
    "\n",
    "plt.title('Leiden - Communty Size and Number of Edges')\n",
    "plt.xlabel('$Size$')\n",
    "plt.ylabel('$Number of Edges$')\n",
    "plt.legend()\n",
    "plt.show()"
   ]
  },
  {
   "cell_type": "code",
   "execution_count": null,
   "id": "37c1c56d",
   "metadata": {
    "pycharm": {
     "name": "#%%\n"
    }
   },
   "outputs": [],
   "source": [
    "#Create figure \n",
    "fig = plt.figure()\n",
    "# Add axes object to figure \n",
    "ax = fig.add_axes([1, 1, 1, 1])\n",
    "\n",
    "x11 = lei_size11\n",
    "y11 = lei_edges11\n",
    "plt.plot(x11, y11, label='2011', marker='o')\n",
    "\n",
    "x12 = lei_size12\n",
    "y12 = lei_edges12\n",
    "plt.plot(x12, y12, label='2012', marker='o')\n",
    "\n",
    "x13 = lei_size13\n",
    "y13 = lei_edges13\n",
    "plt.plot(x13, y13, label='2013', marker='o')\n",
    "\n",
    "x14 = lei_size14\n",
    "y14 = lei_edges14\n",
    "plt.plot(x14, y14, label='2014', marker='o')\n",
    "\n",
    "plt.title('Leiden - Communty Size and Number of Edges')\n",
    "plt.xlabel('$Size$')\n",
    "plt.ylabel('$Number of Edges$')\n",
    "plt.legend()\n",
    "plt.show()"
   ]
  },
  {
   "cell_type": "code",
   "execution_count": null,
   "id": "6eb6b020",
   "metadata": {
    "pycharm": {
     "name": "#%%\n"
    }
   },
   "outputs": [],
   "source": [
    "#Create figure \n",
    "fig = plt.figure()\n",
    "# Add axes object to figure \n",
    "ax = fig.add_axes([1, 1, 1, 1])\n",
    "\n",
    "x15 = lei_size15\n",
    "y15 = lei_edges15\n",
    "plt.plot(x15, y15, label='2015', marker='o')\n",
    "\n",
    "x16 = lei_size16\n",
    "y16 = lei_edges16\n",
    "plt.plot(x16, y16, label='2016', marker='o')\n",
    "\n",
    "x17 = lei_size17\n",
    "y17 = lei_edges17\n",
    "plt.plot(x17, y17, label='2017', marker='o')\n",
    "\n",
    "x18 = lei_size18\n",
    "y18 = lei_edges18\n",
    "plt.plot(x18, y18, label='2018', marker='o')\n",
    "\n",
    "x19 = lei_size19\n",
    "y19 = lei_edges19\n",
    "plt.plot(x19, y19, label='2019', marker='o')\n",
    "\n",
    "plt.title('Leiden - Communty Size and Number of Edges')\n",
    "plt.xlabel('$Size$')\n",
    "plt.ylabel('$Number of Edges$')\n",
    "plt.legend()\n",
    "plt.show()"
   ]
  },
  {
   "cell_type": "markdown",
   "id": "adb0fdc5",
   "metadata": {
    "pycharm": {
     "name": "#%% md\n"
    }
   },
   "source": [
    "#### Community Modularity "
   ]
  },
  {
   "cell_type": "code",
   "execution_count": null,
   "id": "5df2054c",
   "metadata": {
    "pycharm": {
     "name": "#%%\n"
    }
   },
   "outputs": [],
   "source": [
    "#Compute the modularity of a partition of a graph\n",
    "\n",
    "# Create figure\n",
    "fig, ax = plt.subplots()\n",
    "ax = fig.add_axes([1, 1, 1, 1])\n",
    "\n",
    "x = ['2006', '2007', '2008','2009', '2010', '2011', '2012', '2013',\n",
    "        '2014', '2015', '2016', '2017', '2018', '2019']\n",
    "mod = [leiden_mod06, leiden_mod07, leiden_mod08, leiden_mod09, leiden_mod10,\n",
    "      leiden_mod11, leiden_mod12, leiden_mod13, leiden_mod14, leiden_mod15,\n",
    "      leiden_mod16, leiden_mod17, leiden_mod18, leiden_mod19]\n",
    "\n",
    "x_ticks = range(len(x))\n",
    "plt.xticks(x_ticks, x)\n",
    "\n",
    "\n",
    "ax.plot(mod, color='red', marker='o')\n",
    "ax.set_xlabel('$Year$')\n",
    "ax.set_ylabel('$Modularity$', color='red', fontsize=14)\n",
    "\n",
    "ax2=ax.twinx()\n",
    "ax2.plot(yy, color='blue', marker='o')\n",
    "ax2.set_ylabel('$Filter point - Threshold$', color='blue', fontsize=14)\n",
    "\n",
    "plt.title('Leiden - Newman-Girvan Modularity')\n",
    "\n"
   ]
  },
  {
   "cell_type": "markdown",
   "id": "f72f4455",
   "metadata": {
    "pycharm": {
     "name": "#%% md\n"
    }
   },
   "source": [
    "#### Conductance  "
   ]
  },
  {
   "cell_type": "code",
   "execution_count": null,
   "id": "6b1d103e",
   "metadata": {
    "pycharm": {
     "name": "#%%\n"
    }
   },
   "outputs": [],
   "source": [
    "\n",
    "#Create figure \n",
    "fig = plt.figure()\n",
    "# Add axes object to figure \n",
    "ax = fig.add_axes([1, 1, 1, 1])\n",
    "\n",
    "y06 = leiden_con06\n",
    "plt.plot(y06, label ='2006', marker='o')\n",
    "\n",
    "y07 = leiden_con07\n",
    "plt.plot(y07, label='2007', marker='o')\n",
    "\n",
    "#y08 = leiden_con08\n",
    "#plt.plot(y08, label='2008', marker='o')\n",
    "\n",
    "plt.xticks(np.arange(0, max(y)+3, 1))\n",
    "\n",
    "plt.title('Leiden - Conductance')\n",
    "plt.xlabel('$Community$')\n",
    "plt.ylabel('$Conductance$')\n",
    "plt.legend()\n",
    "plt.show()"
   ]
  },
  {
   "cell_type": "code",
   "execution_count": null,
   "id": "8840853b",
   "metadata": {
    "pycharm": {
     "name": "#%%\n"
    }
   },
   "outputs": [],
   "source": [
    "\n",
    "#Create figure \n",
    "fig = plt.figure()\n",
    "# Add axes object to figure \n",
    "ax = fig.add_axes([1, 1, 1, 1])\n",
    "\n",
    "y08 = leiden_con08\n",
    "plt.plot(y08, label='2008', marker='o')\n",
    "\n",
    "y09 = leiden_con09\n",
    "plt.plot(y09, label='2009', marker='o')\n",
    "\n",
    "y10 = leiden_con10\n",
    "plt.plot(y10, label='2010', marker='o')\n",
    "\n",
    "\n",
    "#y08 = leiden_con08\n",
    "#plt.plot(y08, label='2008', marker='o')\n",
    "\n",
    "plt.title('Leiden - Conductance')\n",
    "plt.xlabel('$Community$')\n",
    "plt.ylabel('$Conductance$')\n",
    "plt.legend()\n",
    "plt.show()"
   ]
  },
  {
   "cell_type": "code",
   "execution_count": null,
   "id": "d562b68a",
   "metadata": {
    "pycharm": {
     "name": "#%%\n"
    }
   },
   "outputs": [],
   "source": [
    "#Create figure \n",
    "fig = plt.figure()\n",
    "# Add axes object to figure \n",
    "ax = fig.add_axes([1, 1, 1, 1])\n",
    "\n",
    "y11 = leiden_con11\n",
    "plt.plot(y11, label='2011', marker='o')\n",
    "\n",
    "y12 = leiden_con12\n",
    "plt.plot(y12, label='2012', marker='o')\n",
    "\n",
    "y13 = leiden_con13\n",
    "plt.plot(y13, label='2013', marker='o')\n",
    "\n",
    "y14 = leiden_con14\n",
    "plt.plot(y14, label='2014', marker='o')\n",
    "\n",
    "plt.title('Leiden - Conductance')\n",
    "plt.xlabel('$Community$')\n",
    "plt.ylabel('$Conductance$')\n",
    "plt.legend()\n",
    "plt.show()"
   ]
  },
  {
   "cell_type": "code",
   "execution_count": null,
   "id": "e07f89a5",
   "metadata": {
    "pycharm": {
     "name": "#%%\n"
    },
    "scrolled": false
   },
   "outputs": [],
   "source": [
    "\n",
    "#Create figure \n",
    "fig = plt.figure()\n",
    "# Add axes object to figure \n",
    "ax = fig.add_axes([1, 1, 1, 1])\n",
    "\n",
    "y15 = leiden_con15\n",
    "plt.plot(y15, label='2015', marker='o')\n",
    "\n",
    "y16 = leiden_con16\n",
    "plt.plot(y16, label='2016', marker='o')\n",
    "\n",
    "y17 = leiden_con17\n",
    "plt.plot(y17, label='2017', marker='o')\n",
    "\n",
    "y18 = leiden_con18\n",
    "plt.plot(y18, label='2018', marker='o')\n",
    "\n",
    "y19 = leiden_con19\n",
    "plt.plot(y19, label ='2019', marker='o')\n",
    "\n",
    "\n",
    "#y08 = leiden_con08\n",
    "#plt.plot(y08, label='2008', marker='o')\n",
    "\n",
    "#plt.xticks(np.arange(0, max(y)+3, 1))\n",
    "\n",
    "plt.title('Leiden - Conductance')\n",
    "plt.xlabel('$Community$')\n",
    "plt.ylabel('$Conductance$')\n",
    "plt.legend()\n",
    "plt.show()"
   ]
  },
  {
   "cell_type": "markdown",
   "id": "e3206630",
   "metadata": {
    "pycharm": {
     "name": "#%% md\n"
    }
   },
   "source": [
    "#### Filtering threshold  "
   ]
  },
  {
   "cell_type": "code",
   "execution_count": null,
   "id": "478fb474",
   "metadata": {
    "pycharm": {
     "name": "#%%\n"
    }
   },
   "outputs": [],
   "source": [
    "# Create figure \n",
    "fig = plt.figure()\n",
    "# Add axes object to figure \n",
    "ax = fig.add_axes([1, 1, 1, 1])\n",
    "\n",
    "x = ['2006', '2007', '2008','2009', '2010', '2011', '2012', '2013',\n",
    "        '2014', '2015', '2016', '2017', '2018', '2019']\n",
    "y = [0.28, 0, 0.0136, 0, 0.006, 0.0041, 0.207, 0.184, 0.37, 0.014, 0.111, 0.616, 0.872, 0.362]\n",
    "\n",
    "\n",
    "plt.plot(x,y ,marker='o')\n",
    "\n",
    "plt.title('Leiden - Filtering points - Threshold')\n",
    "plt.xlabel('$Year$')\n",
    "plt.ylabel('$Filtering point - Threshold$')\n",
    "\n",
    "\n",
    "\n",
    "plt.show()"
   ]
  },
  {
   "cell_type": "code",
   "execution_count": null,
   "id": "d3562318",
   "metadata": {
    "pycharm": {
     "name": "#%%\n"
    }
   },
   "outputs": [],
   "source": []
  }
 ],
 "metadata": {
  "kernelspec": {
   "display_name": "Python 3 (ipykernel)",
   "language": "python",
   "name": "python3"
  },
  "language_info": {
   "codemirror_mode": {
    "name": "ipython",
    "version": 3
   },
   "file_extension": ".py",
   "mimetype": "text/x-python",
   "name": "python",
   "nbconvert_exporter": "python",
   "pygments_lexer": "ipython3",
   "version": "3.9.5"
  }
 },
 "nbformat": 4,
 "nbformat_minor": 5
}
